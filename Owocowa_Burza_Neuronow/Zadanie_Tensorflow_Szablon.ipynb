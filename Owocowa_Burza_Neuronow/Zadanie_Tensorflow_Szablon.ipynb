{
 "cells": [
  {
   "cell_type": "markdown",
   "metadata": {
    "id": "ABd9F5LMMAZ4"
   },
   "source": [
    "# Owocowa Burza Neuronów\n",
    "\n",
    "## Zadanie\n",
    "\n",
    "Celem tego zadania jest przeprowadzenie poprawnej klasyfikacji zdjęć owoców przy wykorzystaniu technik uczenia maszynowego. Oczekiwaną skuteczność klasyfikacji ustalamy na poziomie powyżej 75% na zbiorze testowym. Poniżej znajduje się fragment kodu, który należy uzupełnić, aby skrypt działał poprawnie, uruchamiając się w całości i generując plik model.pth (lub model.keras). Środowiskiem wykonawczym dla tego zadania będzie jupyter notebook, a jako platformę można wykorzystać Google Colab.\n",
    "\n",
    "## Ograniczenia\n",
    "- Twoje finalne rozwiązanie będzie testowane w środowisku **bez** GPU.\n",
    "- Ewaluacja twojego rozwiązania (bez treningu) na `480000` przykładach testowych powinna trwać nie dłużej niż 2 minuty na Google Colab bez GPU.\n",
    "- Lista dopuszczalnych bibliotek: `tensorflow`, `numpy`, `scikit`, `matplotlib`, `tqdm`. Proszę zainstalować te biblioteki, korzystając np. z pip.\n",
    "\n",
    "## Pliki zgłoszeniowe\n",
    "Rozwiązanie zadania stanowi plik archiwum zip zawierające:\n",
    "1. Ten notebook\n",
    "2. Plik z wagami modelu: `model.keras`\n",
    "\n",
    "Uruchomienie całego notebooka z flagą `FINAL_EVALUATION_MODE` ustawioną na `False` powinno w maksymalnie 20 minut skutkować utworzeniem modelu z wagami.\n",
    "\n",
    "## Ewaluacja\n",
    "Podczas sprawdzania flaga `FINAL_EVALUATION_MODE` zostanie ustawiona na `True`, a następnie zostanie uruchomiony cały notebook.\n",
    "\n",
    "Podczas sprawdzania zadania, użyjemy metryki ACCURACY, czyli dokładność modelu. Będzie ona liczona za pomocą funkcji `calculate_accuracy`"
   ]
  },
  {
   "cell_type": "markdown",
   "metadata": {
    "id": "xaqYibJeMAZ6"
   },
   "source": [
    "# Kod startowy"
   ]
  },
  {
   "cell_type": "code",
   "metadata": {
    "id": "WWLHBB1pMAZ6"
   },
   "source": [
    "FINAL_EVALUATION_MODE = False  # W czasie sprawdzania twojego rozwiązania zmienimy tą wartość na True\n",
    "MODEL_PATH = 'model.keras'  # Nie zmieniaj!\n",
    "\n",
    "BATCH_SIZE = 32 # Zmniejsz, jeżeli twój komputer ma mniej niż 8gb ram"
   ],
   "outputs": [],
   "execution_count": null
  },
  {
   "cell_type": "code",
   "metadata": {
    "id": "0t3GGZaUMAZ7"
   },
   "source": [
    "from typing import List\n",
    "from datetime import datetime, timedelta\n",
    "from matplotlib import pyplot as plt\n",
    "from tqdm import tqdm, trange\n",
    "\n",
    "import numpy as np\n",
    "import tensorflow as tf\n",
    "\n",
    "import os"
   ],
   "outputs": [],
   "execution_count": null
  },
  {
   "cell_type": "code",
   "source": [
    "if not FINAL_EVALUATION_MODE:\n",
    "  TRAIN_PATH = 'train'\n",
    "  VAL_PATH = 'val'\n",
    "time_start = datetime.now()"
   ],
   "metadata": {
    "id": "npG1I4QwS9tv"
   },
   "outputs": [],
   "execution_count": null
  },
  {
   "cell_type": "code",
   "source": [
    "if not FINAL_EVALUATION_MODE:\n",
    "  os.environ['CUDA_VISIBLE_DEVICES'] = '-1' # Finalne rozwiązanie będzie sprawdzane na CPU!!!"
   ],
   "metadata": {
    "id": "Uv_7W_Uzdlnn"
   },
   "outputs": [],
   "execution_count": null
  },
  {
   "cell_type": "code",
   "source": [
    "# @title Lista klasyfikowanych obiektów\n",
    "if not FINAL_EVALUATION_MODE:\n",
    "  class_names = [\n",
    "    'apple',\n",
    "    'blueberry',\n",
    "    'blackberry',\n",
    "    'pineapple',\n",
    "    'strawberry',\n",
    "    'watermelon',\n",
    "    'grapes',\n",
    "    'peanut',\n",
    "  ]"
   ],
   "metadata": {
    "id": "zKOrq4OISBdL"
   },
   "outputs": [],
   "execution_count": null
  },
  {
   "cell_type": "code",
   "source": [
    "# @title Funkcja obliczająca accuracy modelu na podstawie odpowiedzi - taka sama metryka zostanie zastosowana podczas oceny modelu\n",
    "def calculate_accuracy(y_true: list[float], y_pred: list[float]) -> float:\n",
    "  '''\n",
    "  Oczekiwana są 2 argumenty, pierwszy jako lista oczekiwanych elementów, 2 jako lista predykcji\n",
    "  '''\n",
    "\n",
    "  return np.sum(y_true == y_pred)/y_true.size"
   ],
   "metadata": {
    "id": "1mttp0Sk9s6-"
   },
   "outputs": [],
   "execution_count": null
  },
  {
   "cell_type": "markdown",
   "metadata": {
    "id": "ahNu9ocXMAZ8"
   },
   "source": [
    "# Twoje rozwiązanie"
   ]
  },
  {
   "cell_type": "code",
   "source": [
    "def load_data(name_files: list[str], path: str):\n",
    "  '''\n",
    "  Funkcja ma wczytać dane z plików npy i zwrócić je jako listę\n",
    "\n",
    "  Wskazówki:\n",
    "    1. zwracana lista powinna zawierać tablice numpy o wymiarach (x, 28, 28)\n",
    "    2. pamiętaj o normalizacji\n",
    "  '''\n",
    "  # TODO: zdefiniuj wczytanie danych z pliku npy\n"
   ],
   "metadata": {
    "id": "TlFveak1Q9Gt"
   },
   "outputs": [],
   "execution_count": null
  },
  {
   "cell_type": "markdown",
   "source": [
    "## Po poprawnym napisaniu funkcji load_data zostaną one wczytanę do dataloader"
   ],
   "metadata": {
    "id": "OscZVY88RE0N"
   }
  },
  {
   "cell_type": "code",
   "source": [
    "def get_datasets(name_files: list[str], path: str):\n",
    "  data = load_data(name_files, path)\n",
    "  return (np.concatenate(data, dtype='f').reshape(-1, 28, 28, 1), np.concatenate([np.array([i]*len(_)) for i,_ in enumerate(data)], axis=0))\n",
    "\n",
    "if not FINAL_EVALUATION_MODE:\n",
    "  data_train, label_train =  get_datasets(class_names, TRAIN_PATH)\n",
    "  data_val, label_val =  get_datasets(class_names, VAL_PATH)"
   ],
   "metadata": {
    "id": "D_-H9TNNQTiV"
   },
   "outputs": [],
   "execution_count": null
  },
  {
   "cell_type": "markdown",
   "source": [
    "## Wyświetlenie po jednym przykładowym elemencie z każdej klasy\n",
    "\n",
    "Poprawne wyświetlenie 8 obrazów, po jednym z każdej klasy może oznaczać poprawną implementacją funkcji load_data"
   ],
   "metadata": {
    "id": "F8V1gEqnQQlV"
   }
  },
  {
   "cell_type": "code",
   "source": [
    "if not FINAL_EVALUATION_MODE:\n",
    "  plt.figure(figsize=(20, 10))\n",
    "  for i, name in enumerate(class_names):\n",
    "    plt.subplot(2, 4, i + 1)\n",
    "    plt.title(name)\n",
    "\n",
    "    plt.imshow(data_train[np.where(label_train == i)[0][0]], cmap='gray')"
   ],
   "metadata": {
    "id": "ebtszip_QMnx",
    "colab": {
     "base_uri": "https://localhost:8080/",
     "height": 540
    },
    "outputId": "f155c21a-adde-4cb5-edd8-69d1a4295fd8"
   },
   "outputs": [],
   "execution_count": null
  },
  {
   "metadata": {
    "id": "o0lHr6BUSn3s"
   },
   "cell_type": "markdown",
   "source": [
    "Ma to wyglądać tak jak na zdjęciu poniżej:\n",
    "\n",
    "![](dataset.png)"
   ]
  },
  {
   "cell_type": "markdown",
   "source": [
    "## Zdefiniuj tutaj swój model sieci i przeprowadź trening\n",
    "\n",
    "Uwaga: nie zmieniaj nazwy klasy Net"
   ],
   "metadata": {
    "id": "ZZ4q_G6AQswJ"
   }
  },
  {
   "cell_type": "code",
   "metadata": {
    "id": "bZwzR5WDMAZ9"
   },
   "source": [
    "def get_model():\n",
    "  # Wskazówki:\n",
    "  # 1. Pamiętaj, że oceną modelu nie może trwać dłużej niż 2 minuty dla 480000 danych testowych na CPU, więc nie rób zbyt dużego modelu\n",
    "  # 2. Pamiętaj, że cały skrypt z tego pliku nie może wykonywać się dłużej niż 20 minut na CPU więc nie rób zbyt dużego modelu\n",
    "  model = tf.keras.models.Sequential([\n",
    "    # TODO: Zbuduj i skompiluj swój model\n",
    "  ])\n",
    "  model.compile(\n",
    "    metrics=['accuracy',], # nie zmieniaj tej metryki, taka sama metryka zostanie użyta do oceny modelu\n",
    "    # TODO: Zdefiniuj parametry modelu\n",
    "    optimizer=...,\n",
    "    loss=...,\n",
    "  )\n",
    "\n",
    "  return model"
   ],
   "outputs": [],
   "execution_count": null
  },
  {
   "cell_type": "code",
   "metadata": {
    "id": "KtbJOpNPMAZ9",
    "colab": {
     "base_uri": "https://localhost:8080/"
    },
    "outputId": "d55ab62e-5aee-42e1-a74e-889b1119da64"
   },
   "source": [
    "# W czasie ewaluacji, modele nie powinny być ponownie trenowane.\n",
    "if not FINAL_EVALUATION_MODE:\n",
    "  print(\"Trening modelu\")\n",
    "  model = get_model()\n",
    "\n",
    "  # TODO: ustaw trening\n",
    "  model.fit(data_train, label_train,validation_data=(data_val, label_val), batch_size=BATCH_SIZE, epochs=...)\n",
    "\n",
    "  # zapisz wagi modelu do pliku\n",
    "  model.save(MODEL_PATH)"
   ],
   "outputs": [],
   "execution_count": null
  },
  {
   "cell_type": "markdown",
   "source": [
    "\n",
    "Skrypt powinien wykonywać się maksymalnie 20 minut"
   ],
   "metadata": {
    "id": "tOri7P1lp7tx"
   }
  },
  {
   "cell_type": "code",
   "source": [
    "time_stop = datetime.now()"
   ],
   "metadata": {
    "id": "YeBV454wsS94"
   },
   "outputs": [],
   "execution_count": null
  },
  {
   "cell_type": "code",
   "source": [
    "(time_stop - time_start).total_seconds()/60"
   ],
   "metadata": {
    "id": "_mGepNG7wS8B",
    "colab": {
     "base_uri": "https://localhost:8080/"
    },
    "outputId": "c2f45d5d-d95d-49d4-f03c-28cec00c904f"
   },
   "outputs": [],
   "execution_count": null
  },
  {
   "cell_type": "markdown",
   "metadata": {
    "id": "kJhSNJClMAZ-"
   },
   "source": [
    "# Ewaluacja\n",
    "Kod bardzo podobny do poniższego będzie służył do ewaluacji rozwiązania na zdaniach testowych. Wywołując poniższe komórki, możesz dowiedzieć się jaki wynik zdobyłoby twoje rozwiązanie, gdybyśmy ocenili je na danych walidacyjnych. Przed wysłaniem rozwiązania upewnij się, że cały notebook wykonuje się od początku do końca bez błędów i bez ingerencji użytkownika po wykonaniu polecenia `Run All`."
   ]
  },
  {
   "cell_type": "code",
   "metadata": {
    "id": "FfBxuimdMAZ-"
   },
   "source": [
    "def evaluate_model(model, data, labels, batch_size = BATCH_SIZE):\n",
    "  y_true = []\n",
    "  y_pred = []\n",
    "\n",
    "  y_true = np.concatenate((y_true, labels), axis=0)\n",
    "  out = model.predict(data, batch_size=batch_size)\n",
    "  y_pred = np.concatenate((y_pred,  np.argmax(out, axis=1)), axis=0)\n",
    "\n",
    "  return calculate_accuracy(y_true, y_pred)"
   ],
   "outputs": [],
   "execution_count": null
  },
  {
   "cell_type": "code",
   "metadata": {
    "id": "IEyz3tThMAZ-",
    "colab": {
     "base_uri": "https://localhost:8080/"
    },
    "outputId": "481a1ef5-8090-4ebd-dc80-a15eb765c442"
   },
   "source": [
    "if not FINAL_EVALUATION_MODE:\n",
    "  model_loaded = tf.keras.models.load_model(MODEL_PATH)\n",
    "\n",
    "  start_evaluation = datetime.now()\n",
    "  acc = evaluate_model(model_loaded, data_val, label_val)\n",
    "  stop_evaluation = datetime.now()\n",
    "\n",
    "  print(f'\\nWynik accuracy: {acc:.3f}\\nCzas ewaluacji: {(stop_evaluation - start_evaluation).total_seconds():.2f} sekund')"
   ],
   "outputs": [],
   "execution_count": null
  },
  {
   "cell_type": "code",
   "source": [],
   "metadata": {
    "id": "F9RqS6Mw30iT"
   },
   "outputs": [],
   "execution_count": null
  }
 ],
 "metadata": {
  "kernelspec": {
   "display_name": "Python 3",
   "language": "python",
   "name": "python3"
  },
  "language_info": {
   "codemirror_mode": {
    "name": "ipython",
    "version": 3
   },
   "file_extension": ".py",
   "mimetype": "text/x-python",
   "name": "python",
   "nbconvert_exporter": "python",
   "pygments_lexer": "ipython3",
   "version": "3.10.12"
  },
  "colab": {
   "provenance": []
  }
 },
 "nbformat": 4,
 "nbformat_minor": 0
}
